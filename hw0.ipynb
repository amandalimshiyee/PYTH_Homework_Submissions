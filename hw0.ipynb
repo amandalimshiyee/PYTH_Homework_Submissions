{
  "nbformat": 4,
  "nbformat_minor": 0,
  "metadata": {
    "colab": {
      "provenance": []
    },
    "kernelspec": {
      "name": "python3",
      "display_name": "Python 3"
    },
    "language_info": {
      "name": "python"
    }
  },
  "cells": [
    {
      "cell_type": "code",
      "execution_count": null,
      "metadata": {
        "id": "ysN8Vvws4OBR"
      },
      "outputs": [],
      "source": []
    },
    {
      "cell_type": "markdown",
      "metadata": {
        "id": "AHRuKj4W4Eot"
      },
      "source": [
        "<a href=\"https://colab.research.google.com/github/mottaquikarim/PYTH2/blob/master/src/PSETS/nb/basic_data_inclass_psets.ipynb\" target=\"_parent\"><img src=\"https://colab.research.google.com/assets/colab-badge.svg\" alt=\"Open In Colab\"/></a>"
      ]
    },
    {
      "cell_type": "markdown",
      "metadata": {
        "id": "hcPB7yQM4Eou"
      },
      "source": [
        "#  BASIC DATA TYPES\n",
        "\n",
        "## BASICS\n",
        "\n",
        "### P1.PY\n",
        "\n",
        "\n"
      ]
    },
    {
      "cell_type": "code",
      "execution_count": 120,
      "metadata": {
        "id": "sYq5ON1_4Eov",
        "colab": {
          "base_uri": "https://localhost:8080/",
          "height": 35
        },
        "outputId": "53c5f388-2d1f-4613-dac9-598367e96a99"
      },
      "outputs": [
        {
          "output_type": "execute_result",
          "data": {
            "text/plain": [
              "'\\nPlaceholders\\n'"
            ],
            "application/vnd.google.colaboratory.intrinsic+json": {
              "type": "string"
            }
          },
          "metadata": {},
          "execution_count": 120
        }
      ],
      "source": [
        "\"\"\"\n",
        "Placeholders\n",
        "\"\"\"\n",
        "\n",
        "# You're writing a program, and you don't know what your starting value for your 'initial' variable is yet. The program won't run if you leave it blank, but you don't want to forget you need it! Make a workaround.\n",
        "\n",
        "# starting value for 'initial' variable'\n",
        "\n"
      ]
    },
    {
      "cell_type": "markdown",
      "metadata": {
        "id": "ZGrP8p9a4Eov"
      },
      "source": [
        "\n",
        "\n",
        "### P2.PY\n",
        "\n",
        "\n"
      ]
    },
    {
      "cell_type": "code",
      "execution_count": 121,
      "metadata": {
        "id": "23Lz8-JL4Eov",
        "colab": {
          "base_uri": "https://localhost:8080/"
        },
        "outputId": "547b2a9a-285a-4492-9f3d-b8f45891fbe8"
      },
      "outputs": [
        {
          "output_type": "stream",
          "name": "stdout",
          "text": [
            "8\n",
            "pink\n"
          ]
        }
      ],
      "source": [
        "\"\"\"\n",
        "Basic Variables\n",
        "\"\"\"\n",
        "\n",
        "# Create a variable that represents your favorite number, and add a note to remind yourself what this variable represents. Now print it out without re-typing the number.\n",
        "\n",
        "# x is my favourite number\n",
        "x = 8\n",
        "print (x)\n",
        "\n",
        "# y is my favourite colour\n",
        "y = \"pink\"\n",
        "print (y)\n"
      ]
    },
    {
      "cell_type": "markdown",
      "metadata": {
        "id": "PE5vdnKB4Eow"
      },
      "source": [
        "\n",
        "\n",
        "### P3.PY\n",
        "\n",
        "\n"
      ]
    },
    {
      "cell_type": "code",
      "execution_count": 9,
      "metadata": {
        "id": "fO2CdEc14Eow",
        "colab": {
          "base_uri": "https://localhost:8080/"
        },
        "outputId": "d641384c-6edf-49b7-a7f2-bcc48eafe6c7"
      },
      "outputs": [
        {
          "output_type": "stream",
          "name": "stdout",
          "text": [
            "I would be complex\n",
            "I would be cool\n",
            "They would say I played the ﬁeld before I found someone to commit to\n",
            "And that would be ok\n"
          ]
        }
      ],
      "source": [
        "\"\"\"\n",
        "String Formatting\n",
        "\"\"\"\n",
        "\n",
        "# Create a variable that contains the first 4 lines of your favorite song. Add a comment that includes the song title and artist **each on their own line**! Now print out this variable.\n",
        "\n",
        "# The Man\n",
        "# Taylor Swift\n",
        "print (\"I would be complex\")\n",
        "print (\"I would be cool\")\n",
        "print (\"They would say I played the ﬁeld before I found someone to commit to\")\n",
        "print (\"And that would be ok\")\n",
        "\n"
      ]
    },
    {
      "cell_type": "markdown",
      "metadata": {
        "id": "bpFmI2vi4Eow"
      },
      "source": [
        "\n",
        "\n",
        "## TYPECASTING\n",
        "\n",
        "### P1.PY\n",
        "\n",
        "\n"
      ]
    },
    {
      "cell_type": "code",
      "execution_count": 118,
      "metadata": {
        "id": "vsrYt8-14Eow",
        "colab": {
          "base_uri": "https://localhost:8080/"
        },
        "outputId": "398013e1-87e3-43cb-b4fb-047125e3fe8f"
      },
      "outputs": [
        {
          "output_type": "stream",
          "name": "stdout",
          "text": [
            "5.0\n",
            "<class 'float'>\n",
            "----------\n",
            "0.0\n",
            "<class 'float'>\n",
            "----------\n",
            "-8.0\n",
            "<class 'float'>\n",
            "----------\n",
            "-22.0\n",
            "<class 'float'>\n",
            "----------\n",
            "5\n",
            "<class 'int'>\n",
            "----------\n",
            "0\n",
            "<class 'int'>\n",
            "----------\n",
            "-8\n",
            "<class 'int'>\n",
            "----------\n",
            "-22\n",
            "<class 'int'>\n"
          ]
        }
      ],
      "source": [
        "\"\"\"\n",
        "Typcasting w. Integers & Floats\n",
        "\"\"\"\n",
        "\n",
        "# Convert these numbers into floats and back. Print out each result as well as its data type.\n",
        "\n",
        "five = 5\n",
        "zero = 0\n",
        "neg_8 = -8\n",
        "neg_22 = -22\n",
        "\n",
        "five = float (int (five))\n",
        "print (float (int (five)))\n",
        "print (type (five))\n",
        "\n",
        "print('-'*10)\n",
        "\n",
        "zero = float (int (zero))\n",
        "print (float (int (zero)))\n",
        "print (type (zero))\n",
        "\n",
        "print('-'*10)\n",
        "\n",
        "\n",
        "neg_8 = float (int (neg_8))\n",
        "print (float (int (neg_8)))\n",
        "print (type (neg_8))\n",
        "\n",
        "print('-'*10)\n",
        "\n",
        "neg_22 = float (int (neg_22))\n",
        "print (float (int (neg_22)))\n",
        "print (type (neg_22))\n",
        "\n",
        "print('-'*10)\n",
        "\n",
        "\n",
        "float_num = 5.0\n",
        "int_num = int(float_num)\n",
        "print(int_num)\n",
        "print (type (int_num))\n",
        "\n",
        "print('-'*10)\n",
        "\n",
        "\n",
        "float_num = 0.0\n",
        "int_num = int(float_num)\n",
        "print(int_num)\n",
        "print (type (int_num))\n",
        "\n",
        "print('-'*10)\n",
        "\n",
        "\n",
        "float_num = -8.0\n",
        "int_num = int(float_num)\n",
        "print(int_num)\n",
        "print (type (int_num))\n",
        "\n",
        "print('-'*10)\n",
        "\n",
        "\n",
        "float_num = -22.0\n",
        "int_num = int(float_num)\n",
        "print(int_num)\n",
        "print (type (int_num))\n"
      ]
    },
    {
      "cell_type": "markdown",
      "metadata": {
        "id": "r9YtNNYc4Eow"
      },
      "source": [
        "\n",
        "\n",
        "### P2.PY\n",
        "\n",
        "\n"
      ]
    },
    {
      "cell_type": "code",
      "execution_count": 122,
      "metadata": {
        "id": "mx4Vk9tq4Eow",
        "colab": {
          "base_uri": "https://localhost:8080/",
          "height": 454
        },
        "outputId": "3df32946-3c22-46b2-a81d-58eb71024a76"
      },
      "outputs": [
        {
          "output_type": "stream",
          "name": "stdout",
          "text": [
            "5\n",
            "<class 'str'>\n",
            "<class 'int'>\n",
            "----------\n",
            "0\n",
            "<class 'str'>\n",
            "<class 'int'>\n",
            "----------\n",
            "-8\n",
            "<class 'str'>\n",
            "<class 'int'>\n",
            "----------\n",
            "True\n",
            "<class 'str'>\n"
          ]
        },
        {
          "output_type": "error",
          "ename": "ValueError",
          "evalue": "invalid literal for int() with base 10: 'True'",
          "traceback": [
            "\u001b[0;31m---------------------------------------------------------------------------\u001b[0m",
            "\u001b[0;31mValueError\u001b[0m                                Traceback (most recent call last)",
            "\u001b[0;32m<ipython-input-122-1c56a5812af8>\u001b[0m in \u001b[0;36m<cell line: 42>\u001b[0;34m()\u001b[0m\n\u001b[1;32m     40\u001b[0m \u001b[0mprint\u001b[0m \u001b[0;34m(\u001b[0m\u001b[0mT\u001b[0m\u001b[0;34m)\u001b[0m\u001b[0;34m\u001b[0m\u001b[0;34m\u001b[0m\u001b[0m\n\u001b[1;32m     41\u001b[0m \u001b[0mprint\u001b[0m \u001b[0;34m(\u001b[0m\u001b[0mtype\u001b[0m \u001b[0;34m(\u001b[0m\u001b[0mT\u001b[0m\u001b[0;34m)\u001b[0m\u001b[0;34m)\u001b[0m\u001b[0;34m\u001b[0m\u001b[0;34m\u001b[0m\u001b[0m\n\u001b[0;32m---> 42\u001b[0;31m \u001b[0mF\u001b[0m \u001b[0;34m=\u001b[0m \u001b[0mint\u001b[0m \u001b[0;34m(\u001b[0m\u001b[0mT\u001b[0m\u001b[0;34m)\u001b[0m\u001b[0;34m\u001b[0m\u001b[0;34m\u001b[0m\u001b[0m\n\u001b[0m\u001b[1;32m     43\u001b[0m \u001b[0mprint\u001b[0m \u001b[0;34m(\u001b[0m\u001b[0mtype\u001b[0m \u001b[0;34m(\u001b[0m\u001b[0mT\u001b[0m\u001b[0;34m)\u001b[0m\u001b[0;34m)\u001b[0m\u001b[0;34m\u001b[0m\u001b[0;34m\u001b[0m\u001b[0m\n\u001b[1;32m     44\u001b[0m \u001b[0;34m\u001b[0m\u001b[0m\n",
            "\u001b[0;31mValueError\u001b[0m: invalid literal for int() with base 10: 'True'"
          ]
        }
      ],
      "source": [
        "\"\"\"\n",
        "Typcasting w. Strings\n",
        "\"\"\"\n",
        "\n",
        "# Convert these variables into strings and then back to their original data types. Print out each result as well as its data type. What do you notice about the last one?\n",
        "\n",
        "five = 5\n",
        "zero = 0\n",
        "neg_8 = -8\n",
        "T = True\n",
        "F = False\n",
        "\n",
        "five = str(5)\n",
        "print(five)\n",
        "print (type (five))\n",
        "five = int (five)\n",
        "print (type (five))\n",
        "\n",
        "print('-'*10)\n",
        "\n",
        "\n",
        "zero = str(0)\n",
        "print(zero)\n",
        "print (type (zero))\n",
        "zero = int (zero)\n",
        "print (type (zero))\n",
        "\n",
        "print('-'*10)\n",
        "\n",
        "\n",
        "neg_8 = str(-8)\n",
        "print (neg_8)\n",
        "print (type (neg_8))\n",
        "neg_8 = int (neg_8)\n",
        "print (type (neg_8))\n",
        "\n",
        "print('-'*10)\n",
        "\n",
        "T = str(True)\n",
        "print (T)\n",
        "print (type (T))\n",
        "F = int (T)\n",
        "print (type (T))\n",
        "\n",
        "\n",
        "print('-'*10)\n",
        "\n",
        "\n",
        "F = str(False)\n",
        "print (F)\n",
        "print (type (F))\n",
        "F = int (F)\n",
        "print (type (F))"
      ]
    },
    {
      "cell_type": "markdown",
      "metadata": {
        "id": "PfXz34Z_4Eow"
      },
      "source": [
        "\n",
        "\n",
        "### P3.PY\n",
        "\n",
        "\n"
      ]
    },
    {
      "cell_type": "code",
      "execution_count": 100,
      "metadata": {
        "id": "HNYziWvz4Eox",
        "colab": {
          "base_uri": "https://localhost:8080/"
        },
        "outputId": "22edc695-894a-4c20-c0a2-0617a4ad8fef"
      },
      "outputs": [
        {
          "output_type": "stream",
          "name": "stdout",
          "text": [
            "True\n",
            "<class 'bool'>\n",
            "False\n",
            "<class 'bool'>\n",
            "----------\n",
            "0.0\n",
            "<class 'float'>\n",
            "1.0\n",
            "<class 'float'>\n",
            "----------\n",
            "True\n",
            "<class 'bool'>\n",
            "False\n",
            "<class 'bool'>\n",
            "----------\n",
            "1\n",
            "<class 'int'>\n",
            "0\n",
            "<class 'int'>\n",
            "----------\n",
            "True\n",
            "<class 'bool'>\n"
          ]
        }
      ],
      "source": [
        "\"\"\"\n",
        "Booleans I - Typecasting w. Numbers\n",
        "\"\"\"\n",
        "\n",
        "# A) Use typecasting to turn these variables into boolean values. Print the result and the datatype of the result.\n",
        "\n",
        "one = 1\n",
        "zero = 0\n",
        "one = bool (one)\n",
        "zero = bool (zero)\n",
        "print (one)\n",
        "print (type (one))\n",
        "print (zero)\n",
        "print (type (zero))\n",
        "\n",
        "print('-'*10)\n",
        "\n",
        "\n",
        "# B) Use typecasting to turn the resultant variables from part A into floats. Print the result and the datatype of the result.\n",
        "\n",
        "zero = float (int (zero))\n",
        "print (float (int (zero)))\n",
        "print (type (zero))\n",
        "\n",
        "one = float (int (one))\n",
        "print (float (int (one)))\n",
        "print (type (one))\n",
        "\n",
        "print('-'*10)\n",
        "\n",
        "\n",
        "# C) Use typecasting to turn the resultant variables from part B back into booleans. Print the result and the datatype of the result.\n",
        "\n",
        "one = (bool (one))\n",
        "print (one)\n",
        "print (type (one))\n",
        "\n",
        "zero = (bool (zero))\n",
        "print (zero)\n",
        "print (type (zero))\n",
        "\n",
        "print('-'*10)\n",
        "\n",
        "\n",
        "# C) Use typecasting to turn the resultant variables from part C into integers. Print the result and the datatype of the result.\n",
        "\n",
        "one = (int (one))\n",
        "print (one)\n",
        "print (type (one))\n",
        "\n",
        "zero = (int (zero))\n",
        "print (zero)\n",
        "print (type (zero))\n",
        "\n",
        "print('-'*10)\n",
        "\n",
        "\n",
        "# E) Use typecasting to turn the variable below into a boolean value. Print the result and the datatype of the result.\n",
        "\n",
        "ten = 10\n",
        "\n",
        "ten = (bool (ten))\n",
        "print (ten)\n",
        "print (type (ten))\n"
      ]
    },
    {
      "cell_type": "markdown",
      "metadata": {
        "id": "BsSWL4Vc4Eox"
      },
      "source": [
        "\n",
        "\n",
        "### P4.PY\n",
        "\n",
        "\n"
      ]
    },
    {
      "cell_type": "code",
      "execution_count": 99,
      "metadata": {
        "id": "CXJFTQWG4Eox",
        "colab": {
          "base_uri": "https://localhost:8080/"
        },
        "outputId": "469094ec-0b0e-4c4c-a0b6-70eaa7ebf365"
      },
      "outputs": [
        {
          "output_type": "stream",
          "name": "stdout",
          "text": [
            "True\n",
            "<class 'bool'>\n",
            "False\n",
            "<class 'bool'>\n",
            "----------\n",
            "1\n",
            "<class 'int'>\n",
            "0\n",
            "<class 'int'>\n",
            "----------\n",
            "True\n",
            "<class 'bool'>\n",
            "False\n",
            "<class 'bool'>\n"
          ]
        }
      ],
      "source": [
        "\"\"\"\n",
        "Booleans II - Typecasting w. Strings\n",
        "\"\"\"\n",
        "\n",
        "# A) Use typecasting to turn these variables into boolean values. Print the result and the datatype of the result.\n",
        "\n",
        "one = 1\n",
        "zero = 0\n",
        "bool_true = True\n",
        "bool_false = False\n",
        "\n",
        "one = (bool (one))\n",
        "print (one)\n",
        "print (type (one))\n",
        "\n",
        "zero = (bool (zero))\n",
        "print (zero)\n",
        "print (type (zero))\n",
        "\n",
        "print('-'*10)\n",
        "\n",
        "# B) Use typecasting to turn the latest values for variables 'one' and 'zero' back into integers. Print the result and the datatype of the result.\n",
        "\n",
        "one = (int (one))\n",
        "print (one)\n",
        "print (type (one))\n",
        "\n",
        "zero = (int (zero))\n",
        "print (zero)\n",
        "print (type (zero))\n",
        "\n",
        "print('-'*10)\n",
        "\n",
        "# C) Use typecasting to turn the latest values for variables 'bool_true' and 'bool_false' back into boolean values. Print the result and the datatype of the result.\n",
        "\n",
        "bool_true = (bool (bool_true))\n",
        "print (bool_true)\n",
        "print (type (bool_true))\n",
        "\n",
        "bool_false = (bool (bool_false))\n",
        "print (bool_false)\n",
        "print (type (bool_false))\n",
        "\n",
        "\n",
        "\n"
      ]
    },
    {
      "cell_type": "markdown",
      "metadata": {
        "id": "qnGHZR-04Eox"
      },
      "source": [
        "\n",
        "\n",
        "## OPERATORS\n",
        "\n",
        "### P1.PY\n",
        "\n",
        "\n"
      ]
    },
    {
      "cell_type": "code",
      "execution_count": 34,
      "metadata": {
        "id": "zMaWETKv4Eox",
        "colab": {
          "base_uri": "https://localhost:8080/"
        },
        "outputId": "bbab4839-1d27-4933-90c3-af0fab93eb68"
      },
      "outputs": [
        {
          "output_type": "stream",
          "name": "stdout",
          "text": [
            "150.0\n"
          ]
        }
      ],
      "source": [
        "\"\"\"\n",
        "Integer & Float Operators\n",
        "\"\"\"\n",
        "\n",
        "# Complete the specified math operations. Do the next operation on the result from the previous operation.\n",
        "\n",
        "orig_var = 100\n",
        "\n",
        "# Add 50\n",
        "\n",
        "# Subtract 90\n",
        "\n",
        "# Multiply 10\n",
        "\n",
        "# Divide 150\n",
        "\n",
        "# Modulus 3\n",
        "\n",
        "print (100 + 50 - 90 *10 /150 %3)\n"
      ]
    },
    {
      "cell_type": "markdown",
      "metadata": {
        "id": "EwgZvXyr4Eox"
      },
      "source": [
        "\n",
        "\n",
        "### P2.PY\n",
        "\n",
        "\n"
      ]
    },
    {
      "cell_type": "code",
      "execution_count": 42,
      "metadata": {
        "id": "bgkTL6XI4Eox",
        "colab": {
          "base_uri": "https://localhost:8080/"
        },
        "outputId": "992178cd-b3b6-4c48-e337-158ae7007d99"
      },
      "outputs": [
        {
          "output_type": "stream",
          "name": "stdout",
          "text": [
            "I'll go to the zoo in the morning, and the park in the afternoon\n"
          ]
        }
      ],
      "source": [
        "\"\"\"\n",
        "String Operators\n",
        "\"\"\"\n",
        "\n",
        "# Create two variables, each of which is half of a compound sentence. Do NOT add any punctuation up front. Add the two variables together, and print the result.\n",
        "## Example compound sentence: \"I'll go to the beach today, and I'll go snorkeling.\"\n",
        "\n",
        "# Compound sentence 1: \"I'll go to the zoo in the morning,\"\n",
        "# Compound sentence 2: \"the park in the afternoon\"\n",
        "a = \"I'll go to the zoo in the morning,\"\n",
        "b = \"the park in the afternoon\"\n",
        "print(a, 'and', b)\n"
      ]
    },
    {
      "cell_type": "markdown",
      "metadata": {
        "id": "T44_4bMd4Eox"
      },
      "source": [
        "\n",
        "\n",
        "### P3.PY\n",
        "\n",
        "\n"
      ]
    },
    {
      "cell_type": "code",
      "execution_count": 98,
      "metadata": {
        "id": "EHqIlLym4Eox",
        "colab": {
          "base_uri": "https://localhost:8080/"
        },
        "outputId": "fe1f9ce9-8f45-425b-9413-abeaf6eff831"
      },
      "outputs": [
        {
          "output_type": "stream",
          "name": "stdout",
          "text": [
            "2\n",
            "----------\n",
            "2\n",
            "----------\n",
            "2\n"
          ]
        }
      ],
      "source": [
        "\"\"\"\n",
        "Addition I - Numbers & Strings\n",
        "\"\"\"\n",
        "\n",
        "# Add the below sets of variables together.\n",
        "\n",
        "# A)\n",
        "a = 0\n",
        "b = 2\n",
        "\n",
        "a = 0\n",
        "b = 2\n",
        "print (a + b)\n",
        "\n",
        "print('-'*10)\n",
        "\n",
        "# B)\n",
        "c = '0'\n",
        "d = '2'\n",
        "\n",
        "c = (int (c))\n",
        "d = (int (d))\n",
        "print (c + d)\n",
        "\n",
        "print('-'*10)\n",
        "\n",
        "# C)\n",
        "e = \"0\"\n",
        "f = 2\n",
        "\n",
        "e = \"0\"\n",
        "f = 2\n",
        "\n",
        "e = (int (e))\n",
        "print (e + f)"
      ]
    },
    {
      "cell_type": "markdown",
      "metadata": {
        "id": "Z24T_dTC4Eox"
      },
      "source": [
        "\n",
        "\n",
        "### P4.PY\n",
        "\n",
        "\n"
      ]
    },
    {
      "cell_type": "code",
      "execution_count": 92,
      "metadata": {
        "id": "l7iMl09X4Eox",
        "colab": {
          "base_uri": "https://localhost:8080/"
        },
        "outputId": "a69d98e3-3e41-4bb4-dcf2-a85060ed080d"
      },
      "outputs": [
        {
          "output_type": "stream",
          "name": "stdout",
          "text": [
            "2\n",
            "----------\n",
            "0\n",
            "----------\n",
            "1\n"
          ]
        }
      ],
      "source": [
        "\"\"\"\n",
        "Addition II - Booleans\n",
        "\"\"\"\n",
        "\n",
        "# Add the below sets of variables together.\n",
        "\n",
        "# A)\n",
        "a = True\n",
        "b = True\n",
        "\n",
        "print (a + b)\n",
        "\n",
        "print('-'*10)\n",
        "\n",
        "# B)\n",
        "c = False\n",
        "d = False\n",
        "\n",
        "print (c + d)\n",
        "\n",
        "print('-'*10)\n",
        "\n",
        "# C)\n",
        "e = True\n",
        "f = False\n",
        "\n",
        "print (e + f)\n"
      ]
    },
    {
      "cell_type": "markdown",
      "metadata": {
        "id": "wyWr1aDN4Eox"
      },
      "source": [
        "\n"
      ]
    }
  ]
}