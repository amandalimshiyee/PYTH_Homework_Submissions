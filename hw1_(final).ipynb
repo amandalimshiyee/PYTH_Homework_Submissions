{
  "nbformat": 4,
  "nbformat_minor": 0,
  "metadata": {
    "colab": {
      "provenance": []
    },
    "kernelspec": {
      "name": "python3",
      "display_name": "Python 3"
    },
    "language_info": {
      "name": "python"
    }
  },
  "cells": [
    {
      "cell_type": "markdown",
      "metadata": {
        "id": "jb7HcKpgwYSe"
      },
      "source": [
        "<a href=\"https://colab.research.google.com/github/mottaquikarim/PYTH2/blob/master/src/PSETS/nb/conditionals_inclass_psets.ipynb\" target=\"_parent\"><img src=\"https://colab.research.google.com/assets/colab-badge.svg\" alt=\"Open In Colab\"/></a>"
      ]
    },
    {
      "cell_type": "markdown",
      "metadata": {
        "id": "NwzqaT-OwYSf"
      },
      "source": [
        "#  CONDITIONALS\n",
        "\n",
        "## WEATHER\n",
        "\n",
        "### P1.PY\n",
        "\n",
        "\n"
      ]
    },
    {
      "cell_type": "code",
      "execution_count": 47,
      "metadata": {
        "id": "kweq0qitwYSf",
        "colab": {
          "base_uri": "https://localhost:8080/"
        },
        "outputId": "63652885-f2d8-4e78-fc80-a49ca26f3bf7"
      },
      "outputs": [
        {
          "output_type": "stream",
          "name": "stdout",
          "text": [
            "False\n",
            "----------\n",
            "True\n",
            "----------\n",
            "True\n",
            "----------\n",
            "False\n",
            "----------\n"
          ]
        }
      ],
      "source": [
        "\"\"\"\n",
        "Weather I - Do you need boots?\n",
        "\"\"\"\n",
        "\n",
        "# Use the values of the vars defined below to ouput the correct contextual answer to the questions below. (Note: The variables themselves ARE the questions.)\n",
        "\n",
        "# Example:\n",
        "## am_i_hungry = False\n",
        "## am_i_tired = True\n",
        "## do_i_need_to_stay_awake = False\n",
        "\n",
        "## should_i_drink_coffee_now = am_i_tired and do_i_need_to_stay_awake\n",
        "\n",
        "## ^^ This ^^ evaluates to False. If you're tired and don't need to stay awake, you don't need to drink coffee!\n",
        "\n",
        "\n",
        "is_it_raining = True\n",
        "is_it_snowing = False\n",
        "\n",
        "\n",
        "do_i_need_snow_boots = None\n",
        "can_i_skip_snow_boots = None\n",
        "do_i_need_rain_boots = None\n",
        "can_i_skip_rain_boots = None\n",
        "\n",
        "#Answer:\n",
        "is_it_snowing = False\n",
        "am_i_staying_at_home = True\n",
        "do_i_need_snow_boots = is_it_snowing and am_i_staying_at_home\n",
        "print (do_i_need_snow_boots)\n",
        "## This evaluates to False. If it is not snowing and I am staying at home, I don't need snow boots.\n",
        "\n",
        "print ('-'*10)\n",
        "\n",
        "is_it_snowing = False\n",
        "am_i_building_a_snowman = False\n",
        "can_i_skip_snow_boots = not(is_it_snowing) or not(am_i_building_a_snowman)\n",
        "print (can_i_skip_snow_boots)\n",
        "## This evaluates to True. If it is not snowing and I am not building a snowman, I can skip snowboots.\n",
        "\n",
        "print ('-'*10)\n",
        "\n",
        "is_it_raining = True\n",
        "should_i_bring_an_umbrella = True\n",
        "do_i_need_rain_boots = is_it_raining and should_i_bring_an_umbrella\n",
        "print (do_i_need_rain_boots)\n",
        "## This evaluates to True. If it is raining and I should bring an umbrella, I should need rainboots as well.\n",
        "\n",
        "print ('-'*10)\n",
        "\n",
        "is_it_raining = True\n",
        "is_there_a_flood = False\n",
        "can_i_skip_rain_boots = is_it_raining and is_there_a_flood\n",
        "print (can_i_skip_rain_boots)\n",
        "## This evaluates to False. If it is raining but there is no flood, I can skip rain boots.\n",
        "print ('-'*10)\n",
        "\n",
        "\n",
        "\n"
      ]
    },
    {
      "cell_type": "markdown",
      "metadata": {
        "id": "E8EhZ7zYwYSg"
      },
      "source": [
        "\n",
        "\n",
        "### P2.PY\n",
        "\n",
        "\n"
      ]
    },
    {
      "cell_type": "code",
      "execution_count": 48,
      "metadata": {
        "id": "lMwzNLW_wYSg",
        "colab": {
          "base_uri": "https://localhost:8080/"
        },
        "outputId": "42ff29bf-79d4-40cb-ba1c-63be643d6396"
      },
      "outputs": [
        {
          "output_type": "stream",
          "name": "stdout",
          "text": [
            "False\n",
            "----------\n",
            "True\n",
            "----------\n",
            "False\n",
            "----------\n",
            "True\n",
            "----------\n"
          ]
        }
      ],
      "source": [
        "\"\"\"\n",
        "Weather II - Precipitation\n",
        "\"\"\"\n",
        "\n",
        "# Repeat the same process as p1, using this new set of variables.\n",
        "\n",
        "sunny = True\n",
        "raining = True\n",
        "snowing = False\n",
        "\n",
        "is_it_sunny = None\n",
        "is_there_precipitation = None\n",
        "is_it_sleeting = None\n",
        "is_there_rainbow = None\n",
        "\n",
        "#Answer\n",
        "sunny = True\n",
        "is_the_temperature_high = False\n",
        "is_it_sunny = sunny and is_the_temperature_high\n",
        "print (is_it_sunny)\n",
        "## This evaluates to False. If it is sunny but the temperature is not high, the weather is not sunny.\n",
        "\n",
        "print ('-'*10)\n",
        "\n",
        "raining = True\n",
        "snowing = False\n",
        "is_there_precipitation = raining or snowing\n",
        "print (is_there_precipitation)\n",
        "## This evaluates to True. If it is raining but it is not snowing, there will still be precipitation.\n",
        "\n",
        "print ('-'*10)\n",
        "\n",
        "snowing = False\n",
        "am_i_able_to_drive = True\n",
        "is_it_sleeting = snowing and am_i_able_to_drive\n",
        "print (is_it_sleeting)\n",
        "## This evaluates to False. If it is not snowing and I am able to drive, it is not sleeting.\n",
        "\n",
        "print ('-'*10)\n",
        "\n",
        "sunny = True\n",
        "did_it_just_rain = True\n",
        "is_there_rainbow = sunny and did_it_just_rain\n",
        "print (is_there_rainbow)\n",
        "## This evaluates to True. If it is sunny after a rain, a rainbow will form.\n",
        "\n",
        "print ('-'*10)\n",
        "\n"
      ]
    },
    {
      "cell_type": "markdown",
      "metadata": {
        "id": "voKZCZ8PwYSg"
      },
      "source": [
        "\n",
        "\n",
        "### P3.PY\n",
        "\n",
        "\n"
      ]
    },
    {
      "cell_type": "code",
      "execution_count": 49,
      "metadata": {
        "id": "_DxB96V_wYSh",
        "colab": {
          "base_uri": "https://localhost:8080/"
        },
        "outputId": "26054223-6166-4d7b-8008-d2cf5dafa8d1"
      },
      "outputs": [
        {
          "output_type": "stream",
          "name": "stdout",
          "text": [
            "True\n",
            "----------\n",
            "False\n",
            "----------\n",
            "False\n",
            "----------\n",
            "False\n",
            "----------\n"
          ]
        }
      ],
      "source": [
        "\"\"\"\n",
        "Weather III - Describe Conditions\n",
        "\"\"\"\n",
        "\n",
        "# Repeat the same process as p1, using this new set of variables.\n",
        "\n",
        "\n",
        "is_it_warm = True\n",
        "is_it_humid = True\n",
        "is_it_cold = False\n",
        "is_it_icy = False\n",
        "is_it_foggy = False\n",
        "is_it_windy = False\n",
        "is_it_overcast = True\n",
        "\n",
        "\n",
        "is_it_summer_weather = None\n",
        "is_rain_coming = None\n",
        "is_it_muggy = None\n",
        "do_i_need_coat = None\n",
        "\n",
        "#Answer\n",
        "is_it_warm = True\n",
        "is_it_humid = True\n",
        "is_it_summer_weather = is_it_warm or is_it_humid\n",
        "print (is_it_summer_weather)\n",
        "## This evaluates to True. If it is warm and humid, it is summer weather.\n",
        "\n",
        "print ('-'*10)\n",
        "\n",
        "is_it_cold = False\n",
        "is_it_icy = False\n",
        "do_i_need_coat = is_it_cold and is_it_icy\n",
        "print (do_i_need_coat)\n",
        "## This evaluates to False. If it is not cold and icy, I do not need a coat.\n",
        "\n",
        "print ('-'*10)\n",
        "\n",
        "is_it_foggy = False\n",
        "is_it_humid = True\n",
        "is_it_muggy = (is_it_foggy) and (is_it_humid)\n",
        "print (is_it_muggy)\n",
        "## This evaluates to False. If it is not foggy but it is humid, it may not be muggy.\n",
        "\n",
        "print ('-'*10)\n",
        "\n",
        "is_it_windy = False\n",
        "is_it_overcast = False\n",
        "is_rain_coming = is_it_windy and is_it_overcast\n",
        "print (is_rain_coming)\n",
        "## This evaluates to False. If it not windy and there is no overcast, the rain is not coming.\n",
        "\n",
        "print ('-'*10)"
      ]
    },
    {
      "cell_type": "markdown",
      "metadata": {
        "id": "BZNGOZo_wYSh"
      },
      "source": [
        "\n",
        "\n",
        "## LOGIC\n",
        "\n",
        "### P1.PY\n",
        "\n",
        "\n"
      ]
    },
    {
      "cell_type": "code",
      "execution_count": 137,
      "metadata": {
        "id": "TibMfJcCwYSh",
        "colab": {
          "base_uri": "https://localhost:8080/"
        },
        "outputId": "339855f0-28dc-4d66-a16a-d38c47cbfddd"
      },
      "outputs": [
        {
          "output_type": "stream",
          "name": "stdout",
          "text": [
            "F\n"
          ]
        }
      ],
      "source": [
        "\"\"\"\n",
        "Calculate Grade\n",
        "\"\"\"\n",
        "\n",
        "grade = 15 # expect this to be a number\n",
        "\n",
        "# write a program that will print the \"letter\"\n",
        "# equivalent of the grade, for example:\n",
        "# when grade = 90 # -> expect A\n",
        "# when grade = 80 # -> expect B\n",
        "# when grade = 70 # -> expect C\n",
        "# when grade = 60 # -> expect D\n",
        "# when grade = 54 # -> expect F\n",
        "# when grade = -10 # -> expect Error\n",
        "# when grade = 10000 # -> expect Error\n",
        "# when grade = \"lol skool sucks\" # -> expect Error\n",
        "\n",
        "#Answer\n",
        "\n",
        "## Check if the data type is a string\n",
        "\n",
        "if type(grade) == str:\n",
        "  print ('Error')\n",
        "\n",
        "## The condition 'when grade = -10' is covered under 'if grade <0' which prints out 'Error'.\n",
        "\n",
        "elif grade < 0:\n",
        "  print ('Error')\n",
        "\n",
        "## Since there are multiple possibilities, we will use elif here\n",
        "\n",
        "elif grade == 54 or grade <54:\n",
        "  print ('F')\n",
        "\n",
        "elif grade == 60 or grade <60:\n",
        "  print ('D')\n",
        "\n",
        "elif grade == 70 or grade <70:\n",
        "  print ('C')\n",
        "\n",
        "elif grade == 80 or grade <80:\n",
        "  print ('B')\n",
        "\n",
        "elif grade == 90 or grade <90:\n",
        "  print ('A')\n",
        "\n",
        "## If it does not meet any of the above conditions, it will fall under 'else' which prints out 'Error'. In this case, 'when grade = 10000' and 'lol school sucks' fall under this condition.\n",
        "else:\n",
        "  print ('Error')"
      ]
    },
    {
      "cell_type": "markdown",
      "metadata": {
        "id": "9eJuxRDkwYSh"
      },
      "source": [
        "\n",
        "\n",
        "### P2.PY\n",
        "\n",
        "\n"
      ]
    },
    {
      "cell_type": "code",
      "execution_count": 96,
      "metadata": {
        "id": "n2apJg78wYSh",
        "colab": {
          "base_uri": "https://localhost:8080/"
        },
        "outputId": "975ef805-afb7-44f5-9fb2-edbf3a351c6d"
      },
      "outputs": [
        {
          "output_type": "stream",
          "name": "stdout",
          "text": [
            "-1\n",
            "----------\n"
          ]
        }
      ],
      "source": [
        "\"\"\"\n",
        "Sign of Product\n",
        "\"\"\"\n",
        "\n",
        "# Given three numbers, a, b, c, without multiplying, determine the sign of their product.\n",
        "\n",
        "# EXAMPLE: a = -5, b = 6, c = -4, print 1\n",
        "\n",
        "# EXAMPLE: a = 5, b = 6, c = -4, print -1\n",
        "\n",
        "#Answer\n",
        "a = -6\n",
        "b = 8\n",
        "c = 3\n",
        "\n",
        "if a*b*c < 0:\n",
        "  print ('-1')\n",
        "\n",
        "elif a*b*c == 0:\n",
        "  print ('0')\n",
        "\n",
        "else:\n",
        "  print ('1')\n",
        "\n",
        "print ('-'*10)\n",
        "\n",
        "## In Python, the integer 0 is always False , while every other number, including negative numbers, are True"
      ]
    },
    {
      "cell_type": "markdown",
      "metadata": {
        "id": "B5zLl3y9wYSh"
      },
      "source": [
        "\n",
        "\n",
        "### P3.PY\n",
        "\n",
        "\n"
      ]
    },
    {
      "cell_type": "code",
      "execution_count": 88,
      "metadata": {
        "id": "-pScxsaPwYSh",
        "colab": {
          "base_uri": "https://localhost:8080/"
        },
        "outputId": "98141d20-9ce7-44c9-826c-7f6b78fa47dd"
      },
      "outputs": [
        {
          "output_type": "stream",
          "name": "stdout",
          "text": [
            "True\n",
            "----------\n"
          ]
        }
      ],
      "source": [
        "\"\"\"\n",
        "Any Uppercase\n",
        "\"\"\"\n",
        "\n",
        "# Given a string str, determine if there are any uppercase values in it. Use only conditional statements and string methods (you may have to look some up!)\n",
        "\n",
        "# EXAMPLE: str = \"teSt\", print True\n",
        "\n",
        "#Answer\n",
        "word = \"leARn\"\n",
        "word_has_uppercase = not(word.islower())\n",
        "print (word_has_uppercase)\n",
        "\n",
        "print ('-'*10)\n",
        "\n",
        "## The isupper() method returns True if all the characters are in upper case, otherwise False"
      ]
    },
    {
      "cell_type": "markdown",
      "metadata": {
        "id": "P4tKzmjHwYSh"
      },
      "source": [
        "\n",
        "\n",
        "### P4.PY\n",
        "\n",
        "\n"
      ]
    },
    {
      "cell_type": "code",
      "execution_count": 108,
      "metadata": {
        "id": "abegRDFGwYSh",
        "colab": {
          "base_uri": "https://localhost:8080/"
        },
        "outputId": "ec067bf3-b7aa-43ed-935f-fb606a148e12"
      },
      "outputs": [
        {
          "output_type": "stream",
          "name": "stdout",
          "text": [
            "False\n",
            "----------\n",
            "False\n"
          ]
        }
      ],
      "source": [
        "\"\"\"\n",
        "Empty Strings\n",
        "\"\"\"\n",
        "\n",
        "# Given any empty string, of the form:\n",
        "\n",
        "# ''\n",
        "# ' '\n",
        "# '  '\n",
        "# any other num of spaces...\n",
        "\n",
        "# determine if the str is empty or not (print True or False). Hint: You'll need to look up how to remove trailing spaces from a string.\n",
        "\n",
        "#Answer\n",
        "\n",
        "\n",
        "test = \"   \"\n",
        "test = test.strip()\n",
        "print (bool(test))\n",
        "\n",
        "print ('-'*10)\n",
        "\n",
        "experiment = '       '\n",
        "experiment = experiment.strip()\n",
        "print (bool(experiment))\n",
        "\n",
        "## The Python String strip() method removes leading and trailing characters from a string. The default character to remove is space.\n"
      ]
    },
    {
      "cell_type": "markdown",
      "metadata": {
        "id": "I5m3oqI4wYSi"
      },
      "source": [
        "\n",
        "\n",
        "### P5.PY\n",
        "\n",
        "\n"
      ]
    },
    {
      "cell_type": "code",
      "execution_count": 18,
      "metadata": {
        "id": "X6nzOTcwwYSi",
        "colab": {
          "base_uri": "https://localhost:8080/"
        },
        "outputId": "bb37b395-04c4-460b-c43c-35e2d9fcecab"
      },
      "outputs": [
        {
          "output_type": "stream",
          "name": "stdout",
          "text": [
            "True\n"
          ]
        }
      ],
      "source": [
        "from re import T\n",
        "\"\"\"\n",
        "truthTableEvaluator\n",
        "\"\"\"\n",
        "\n",
        "# Given the following inputs:\n",
        "\n",
        "# P = # True or False\n",
        "# Q = # True or False\n",
        "# op = # '^' (logical AND, conjunction)\n",
        "#      # OR, 'v' (logical OR, disjunction)\n",
        "#      # OR, '->' (logical conditional, implication)\n",
        "#      # OR, '<->' (biconditional)\n",
        "# determine the correct outcome.\n",
        "\n",
        "#Answer\n",
        "\n",
        "## Logical AND (^, conjunction):\n",
        "\n",
        "## P  |  Q  | P ^ Q\n",
        "## -----------------\n",
        "## T  |  T  |   T\n",
        "## T  |  F  |   F\n",
        "## F  |  T  |   F\n",
        "## F  |  F  |   F\n",
        "\n",
        "P = True\n",
        "Q = False\n",
        "op = 'v' ##Can change the operator that will result in different outputs\n",
        "\n",
        "## The AND operator (symbolically: ∧) also known as logical conjunction requires both p and q to be True for the result to be True. All other cases result in False.\n",
        "\n",
        "if op == '^':\n",
        "  print (P and Q)\n",
        "\n",
        "## Logical OR (v, disjunction)\n",
        "\n",
        "## P  |  Q  | P v Q\n",
        "## -----------------\n",
        "## T  |  T  |   T\n",
        "## T  |  F  |   T\n",
        "## F  |  T  |   T\n",
        "## F  |  F  |   F\n",
        "\n",
        "## The OR operator (symbolically: ∨) requires only one premise to be True for the result to be True.\n",
        "\n",
        "elif op == 'v':\n",
        "  print (P or Q)\n",
        "\n",
        "## Logical conditional (->, implication)\n",
        "\n",
        "## P  |  Q  | P -> Q\n",
        "## -----------------\n",
        "## T  |  T  |   T\n",
        "## T  |  F  |   F\n",
        "## F  |  T  |   T\n",
        "## F  |  F  |   T\n",
        "\n",
        "## Logical implication (symbolically: p → q), also known as “if-then”, results True in all cases except the case T → F.\n",
        "## Implication logic is only applicable when first variable is True. If the first variable is False, it will be vacously True.\n",
        "\n",
        "elif op == '->':\n",
        "\n",
        "  if P ==  True and Q == False:\n",
        "    print (False) ##Hardcode False\n",
        "\n",
        "  else:\n",
        "    print (True) ##Hardcode True\n",
        "\n",
        "\n",
        "## Biconditional (<->)\n",
        "\n",
        "## P  |  Q  | P <-> Q\n",
        "## -----------------\n",
        "## T  |  T  |    T\n",
        "## T  |  F  |    F\n",
        "## F  |  T  |    F\n",
        "## F  |  F  |    T\n",
        "\n",
        "## Also known as the biconditional or if and only if (symbolically: ←→), logical equality is the conjunction (p → q) ∧ (q → p). In other words, it’s an if-then statement where the converse is also true. The only way we can assert a conditional holds in both directions is if both p and q have the same truth value, meaning they’re both True or both False. This is why the biconditional is also known as logical equality.\n",
        "## Biconditional logic is only applicable of both variables imply the same.\n",
        "\n",
        "else:\n",
        "\n",
        "  if P == Q:\n",
        "    print (True)\n",
        "\n",
        "  else:\n",
        "    print (False)\n"
      ]
    },
    {
      "cell_type": "markdown",
      "metadata": {
        "id": "lOLFeLEkwYSi"
      },
      "source": [
        "\n",
        "\n",
        "## RANDOM_NUMS\n",
        "\n",
        "### P1.PY\n",
        "\n",
        "\n"
      ]
    },
    {
      "cell_type": "code",
      "execution_count": 23,
      "metadata": {
        "id": "7nioTSnNwYSi",
        "colab": {
          "base_uri": "https://localhost:8080/"
        },
        "outputId": "e8f91384-19d4-4d56-f12e-e7cd577d2212"
      },
      "outputs": [
        {
          "output_type": "stream",
          "name": "stdout",
          "text": [
            "green\n",
            "----------\n",
            "2\n"
          ]
        }
      ],
      "source": [
        "\"\"\"\n",
        "Generate Traffic Light\n",
        "\"\"\"\n",
        "\n",
        "# import python random package\n",
        "\n",
        "\n",
        "# generates a random number from 1 to 3\n",
        "\n",
        "\n",
        "# if 1, print 'red'\n",
        "# if 2, print 'green',\n",
        "# if 3, print 'yellow'\n",
        "\n",
        "#Answer\n",
        "## If I want to generate random numbers in my programs, I can import Python's random package at the top of your code.\n",
        "import random as r\n",
        "\n",
        "## If I want to generate a random number from 1 to 3 and assign it to 'randn'\n",
        "randn = random.randint (1, 3)\n",
        "\n",
        "## Since there are multiple possibilities, we will use elif here\n",
        "\n",
        "if randn == 1:\n",
        "  print ('red')\n",
        "\n",
        "elif randn == 2:\n",
        "  print ('green')\n",
        "\n",
        "else:\n",
        "  print ('yellow')\n",
        "\n",
        "print ('-'*10)\n",
        "\n",
        "## To check\n",
        "\n",
        "print (randn)\n",
        "\n",
        "\n"
      ]
    },
    {
      "cell_type": "markdown",
      "metadata": {
        "id": "pcPbky61wYSi"
      },
      "source": [
        "\n",
        "\n",
        "### P2.PY\n",
        "\n",
        "\n"
      ]
    },
    {
      "cell_type": "code",
      "execution_count": 37,
      "metadata": {
        "id": "6fFFDSHmwYSi",
        "colab": {
          "base_uri": "https://localhost:8080/"
        },
        "outputId": "28a79ce8-4d7b-40d5-a052-3d20fd60fa28"
      },
      "outputs": [
        {
          "output_type": "stream",
          "name": "stdout",
          "text": [
            "4\n",
            "212\n",
            "490\n",
            "451\n",
            "4-212-490-451\n"
          ]
        }
      ],
      "source": [
        "\"\"\"\n",
        "Generate Phone Number w/Area Code\n",
        "\"\"\"\n",
        "\n",
        "# import python random package\n",
        "\n",
        "\n",
        "# generate a random phone number of the form:\n",
        "# 1-718-786-2825\n",
        "# This should be a string\n",
        "# Valid Area Codes are: 646, 718, 212\n",
        "# if phone number doesn't have [646, 718, 212]\n",
        "# as area code, pick one of the above at random\n",
        "\n",
        "#Answer\n",
        "## If I want to generate random numbers in my programs, I can import Python's random package at the top of your code.\n",
        "\n",
        "import random\n",
        "\n",
        "##Part 1: My country code is the first digit in the random phone number\n",
        "country_code = str(random.randint(1, 10))\n",
        "print (country_code)\n",
        "\n",
        "## Part 2: Randomise a three-digit number from 100 to 999. If the randomised area code is not 646, 718 or 212, then I have to pick one of the three given area codes at random.\n",
        "true_area_code = ['646', '718', '212']\n",
        "\n",
        "## Convert area_code to string\n",
        "area_code = str(random.randint(100, 999))\n",
        "## If randomised area_code is not 646, 718 or 212, I will have to randomise between the range of index 0 to 2 so that I can pick one of my values from that list.\n",
        "random_true_area_code_index = (random.randint(0, 2))\n",
        "\n",
        "## To check whether area_code is in the true_area_code list\n",
        "if area_code in true_area_code:\n",
        "  area_code = area_code\n",
        "\n",
        "else:\n",
        "## Take the index value from the given list\n",
        "  area_code = true_area_code[random_true_area_code_index]\n",
        "\n",
        "print (area_code)\n",
        "\n",
        "## Part 3: Randomise three-digit number\n",
        "three_digit_number = str(random.randint(100, 999))\n",
        "print (three_digit_number)\n",
        "\n",
        "# Part 4: Randomise four-digit number\n",
        "four_digit_number = str(random.randint (100, 999))\n",
        "print (four_digit_number)\n",
        "\n",
        "## Have to convert all the integers to strings at the top so that the below will not become a sum of the integers\n",
        "## Area code has already been converted to string\n",
        "print (country_code + '-' + area_code + '-' + three_digit_number + '-' + four_digit_number)\n"
      ]
    },
    {
      "cell_type": "markdown",
      "metadata": {
        "id": "8vgKdWbbwYSi"
      },
      "source": [
        "\n"
      ]
    }
  ]
}